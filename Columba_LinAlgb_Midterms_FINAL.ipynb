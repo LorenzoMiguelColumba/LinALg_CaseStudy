{
  "nbformat": 4,
  "nbformat_minor": 0,
  "metadata": {
    "kernelspec": {
      "display_name": "Python 3",
      "language": "python",
      "name": "python3"
    },
    "language_info": {
      "codemirror_mode": {
        "name": "ipython",
        "version": 3
      },
      "file_extension": ".py",
      "mimetype": "text/x-python",
      "name": "python",
      "nbconvert_exporter": "python",
      "pygments_lexer": "ipython3",
      "version": "3.8.3"
    },
    "colab": {
      "name": "Columba_LinAlgb_Midterms_FINAL.ipynb",
      "provenance": [],
      "collapsed_sections": [],
      "toc_visible": true
    }
  },
  "cells": [
    {
      "cell_type": "markdown",
      "metadata": {
        "id": "orB1dxiov-ar"
      },
      "source": [
        "<h1>Linear Algebra (CpE210A)"
      ]
    },
    {
      "cell_type": "markdown",
      "metadata": {
        "id": "-R0ac88uv-av"
      },
      "source": [
        "<h3>Midterms Project"
      ]
    },
    {
      "cell_type": "markdown",
      "metadata": {
        "id": "xxDy8yA5v-ax"
      },
      "source": [
        "Coded and submitted by:<br>\n",
        "<i>Columba, Lorenzo Miguel  L.<br>\n",
        "    201812564 <br>\n",
        "   58010 </i>"
      ]
    },
    {
      "cell_type": "markdown",
      "metadata": {
        "id": "d2xufCOFv-az"
      },
      "source": [
        "Directions\n",
        "This Jupyter Notebook will serve as your base code for your Midterm Project. You must further format and provide complete discussion on the given topic. \n",
        "- Provide all necessary explanations for specific code blocks. \n",
        "- Provide illustrations for key results.\n",
        "- Observe clean code (intuitive variable names, proper commenting, proper code spacing)\n",
        "- Provide a summary discussion at the end\n",
        "\n",
        "Failure to use this format or failure to update the document will be given a deduction equivalent to 50% of the original score. "
      ]
    },
    {
      "cell_type": "markdown",
      "metadata": {
        "id": "lNHfZFwZv-a0"
      },
      "source": [
        "### Case"
      ]
    },
    {
      "cell_type": "markdown",
      "metadata": {
        "id": "5JvI_KNsv-a2"
      },
      "source": [
        "Bebang is back to consult you about her business. Furthering her data analytics initiative she asks you for help to compute some relevant data. Now she is asking you to compute and visualize her sales and costs for the past year. She has given you the datasets attached to her request."
      ]
    },
    {
      "cell_type": "markdown",
      "metadata": {
        "id": "kF-M0J6Wv-a3"
      },
      "source": [
        "### Problem"
      ]
    },
    {
      "cell_type": "markdown",
      "metadata": {
        "id": "NtC67Swzv-a5"
      },
      "source": [
        "Bebang asked for help to know the sales from the last year's data such as the monthly revenue, costs, and profits. Also to know the sales in each flavor for per month the will be equivalent for a whole year and by identifying what are the top 3 best seller flavors and the worst 3 flavors. Also, she wanted to know how to improve her marketing strategy to avoid losses and to earn more profit. She has provided CSV data with the flavors of the donut, its prices, and months as references to get the needed data. To visualize the results, it can be presented with a bar graph or plot for Bebang to easily understand the result of her monthly revenues, profits, and costs."
      ]
    },
    {
      "cell_type": "markdown",
      "metadata": {
        "id": "t5CnGp8Yv-a6"
      },
      "source": [
        "# Proof of Concept"
      ]
    },
    {
      "cell_type": "markdown",
      "metadata": {
        "id": "RnnS0p8zv-a7"
      },
      "source": [
        "Now that you have a grasp on the requirements we need to start with making a program to prove that her problem is solvable. As a Linear Algebra student, we will be focusin on applying vector operations to meet her needs. First, we need to import her data. We will use the `pandas` library for this. For more information you can look into their documentation [here](https://pandas.pydata.org/)."
      ]
    },
    {
      "cell_type": "code",
      "metadata": {
        "id": "yZLKrXKwv-a8",
        "colab": {
          "base_uri": "https://localhost:8080/",
          "height": 157
        },
        "outputId": "64225e23-1672-4e44-d052-613966287ffe"
      },
      "source": [
        "import pandas as pd\n",
        "\n",
        "file_prices = (\"/content/bebang prices.csv\" )\n",
        "file_sales = (\"/content/bebang sales.csv\")\n",
        "\n",
        "df_prices = pd.read_csv(file_prices, index_col=0)\n",
        "df_sales = pd.read_csv(file_sales)\n",
        "\n",
        "\n",
        "## Let's check what's in df_prices\n",
        "df_prices"
      ],
      "execution_count": null,
      "outputs": [
        {
          "output_type": "execute_result",
          "data": {
            "text/html": [
              "<div>\n",
              "<style scoped>\n",
              "    .dataframe tbody tr th:only-of-type {\n",
              "        vertical-align: middle;\n",
              "    }\n",
              "\n",
              "    .dataframe tbody tr th {\n",
              "        vertical-align: top;\n",
              "    }\n",
              "\n",
              "    .dataframe thead th {\n",
              "        text-align: right;\n",
              "    }\n",
              "</style>\n",
              "<table border=\"1\" class=\"dataframe\">\n",
              "  <thead>\n",
              "    <tr style=\"text-align: right;\">\n",
              "      <th></th>\n",
              "      <th>red velvet</th>\n",
              "      <th>oreo</th>\n",
              "      <th>sugar glazed</th>\n",
              "      <th>almond honey</th>\n",
              "      <th>matcha</th>\n",
              "      <th>strawberry cream</th>\n",
              "      <th>brown sugar boba</th>\n",
              "      <th>furits and nuts</th>\n",
              "      <th>dark chocolate</th>\n",
              "      <th>chocolate and orange</th>\n",
              "      <th>choco mint</th>\n",
              "      <th>choco butter naught</th>\n",
              "    </tr>\n",
              "  </thead>\n",
              "  <tbody>\n",
              "    <tr>\n",
              "      <th>price per piece</th>\n",
              "      <td>35</td>\n",
              "      <td>25</td>\n",
              "      <td>20</td>\n",
              "      <td>35</td>\n",
              "      <td>50</td>\n",
              "      <td>40</td>\n",
              "      <td>40</td>\n",
              "      <td>45</td>\n",
              "      <td>30</td>\n",
              "      <td>40</td>\n",
              "      <td>45</td>\n",
              "      <td>45</td>\n",
              "    </tr>\n",
              "    <tr>\n",
              "      <th>cost per piece</th>\n",
              "      <td>25</td>\n",
              "      <td>15</td>\n",
              "      <td>10</td>\n",
              "      <td>20</td>\n",
              "      <td>35</td>\n",
              "      <td>31</td>\n",
              "      <td>30</td>\n",
              "      <td>25</td>\n",
              "      <td>15</td>\n",
              "      <td>25</td>\n",
              "      <td>32</td>\n",
              "      <td>31</td>\n",
              "    </tr>\n",
              "  </tbody>\n",
              "</table>\n",
              "</div>"
            ],
            "text/plain": [
              "                 red velvet  oreo  ...  choco mint  choco butter naught\n",
              "price per piece          35    25  ...          45                   45\n",
              "cost per piece           25    15  ...          32                   31\n",
              "\n",
              "[2 rows x 12 columns]"
            ]
          },
          "metadata": {
            "tags": []
          },
          "execution_count": 2
        }
      ]
    },
    {
      "cell_type": "code",
      "metadata": {
        "id": "HqVBofmEv-bE",
        "colab": {
          "base_uri": "https://localhost:8080/",
          "height": 402
        },
        "outputId": "5ff0c16d-5816-406b-8d15-eefe37dd1602"
      },
      "source": [
        "## Let's check the sales dataframe\n",
        "df_sales"
      ],
      "execution_count": null,
      "outputs": [
        {
          "output_type": "execute_result",
          "data": {
            "text/html": [
              "<div>\n",
              "<style scoped>\n",
              "    .dataframe tbody tr th:only-of-type {\n",
              "        vertical-align: middle;\n",
              "    }\n",
              "\n",
              "    .dataframe tbody tr th {\n",
              "        vertical-align: top;\n",
              "    }\n",
              "\n",
              "    .dataframe thead th {\n",
              "        text-align: right;\n",
              "    }\n",
              "</style>\n",
              "<table border=\"1\" class=\"dataframe\">\n",
              "  <thead>\n",
              "    <tr style=\"text-align: right;\">\n",
              "      <th></th>\n",
              "      <th>flavor</th>\n",
              "      <th>january</th>\n",
              "      <th>february</th>\n",
              "      <th>march</th>\n",
              "      <th>april</th>\n",
              "      <th>may</th>\n",
              "      <th>june</th>\n",
              "      <th>july</th>\n",
              "      <th>august</th>\n",
              "      <th>september</th>\n",
              "      <th>october</th>\n",
              "      <th>november</th>\n",
              "      <th>december</th>\n",
              "    </tr>\n",
              "  </thead>\n",
              "  <tbody>\n",
              "    <tr>\n",
              "      <th>0</th>\n",
              "      <td>red velvet</td>\n",
              "      <td>781</td>\n",
              "      <td>524</td>\n",
              "      <td>364</td>\n",
              "      <td>157</td>\n",
              "      <td>894</td>\n",
              "      <td>56</td>\n",
              "      <td>89</td>\n",
              "      <td>41</td>\n",
              "      <td>23</td>\n",
              "      <td>78</td>\n",
              "      <td>231</td>\n",
              "      <td>899</td>\n",
              "    </tr>\n",
              "    <tr>\n",
              "      <th>1</th>\n",
              "      <td>oreo</td>\n",
              "      <td>210</td>\n",
              "      <td>324</td>\n",
              "      <td>344</td>\n",
              "      <td>32</td>\n",
              "      <td>123</td>\n",
              "      <td>1</td>\n",
              "      <td>3</td>\n",
              "      <td>0</td>\n",
              "      <td>1</td>\n",
              "      <td>6</td>\n",
              "      <td>312</td>\n",
              "      <td>548</td>\n",
              "    </tr>\n",
              "    <tr>\n",
              "      <th>2</th>\n",
              "      <td>sugar glazed</td>\n",
              "      <td>599</td>\n",
              "      <td>674</td>\n",
              "      <td>854</td>\n",
              "      <td>14</td>\n",
              "      <td>467</td>\n",
              "      <td>78</td>\n",
              "      <td>36</td>\n",
              "      <td>48</td>\n",
              "      <td>75</td>\n",
              "      <td>98</td>\n",
              "      <td>781</td>\n",
              "      <td>1602</td>\n",
              "    </tr>\n",
              "    <tr>\n",
              "      <th>3</th>\n",
              "      <td>almond honey</td>\n",
              "      <td>124</td>\n",
              "      <td>112</td>\n",
              "      <td>114</td>\n",
              "      <td>23</td>\n",
              "      <td>198</td>\n",
              "      <td>12</td>\n",
              "      <td>32</td>\n",
              "      <td>41</td>\n",
              "      <td>23</td>\n",
              "      <td>36</td>\n",
              "      <td>300</td>\n",
              "      <td>566</td>\n",
              "    </tr>\n",
              "    <tr>\n",
              "      <th>4</th>\n",
              "      <td>matcha</td>\n",
              "      <td>645</td>\n",
              "      <td>498</td>\n",
              "      <td>885</td>\n",
              "      <td>98</td>\n",
              "      <td>177</td>\n",
              "      <td>98</td>\n",
              "      <td>43</td>\n",
              "      <td>96</td>\n",
              "      <td>26</td>\n",
              "      <td>71</td>\n",
              "      <td>549</td>\n",
              "      <td>897</td>\n",
              "    </tr>\n",
              "    <tr>\n",
              "      <th>5</th>\n",
              "      <td>strawberry cream</td>\n",
              "      <td>210</td>\n",
              "      <td>372</td>\n",
              "      <td>369</td>\n",
              "      <td>78</td>\n",
              "      <td>163</td>\n",
              "      <td>26</td>\n",
              "      <td>45</td>\n",
              "      <td>22</td>\n",
              "      <td>54</td>\n",
              "      <td>41</td>\n",
              "      <td>207</td>\n",
              "      <td>456</td>\n",
              "    </tr>\n",
              "    <tr>\n",
              "      <th>6</th>\n",
              "      <td>brown sugar boba</td>\n",
              "      <td>981</td>\n",
              "      <td>380</td>\n",
              "      <td>154</td>\n",
              "      <td>14</td>\n",
              "      <td>147</td>\n",
              "      <td>15</td>\n",
              "      <td>98</td>\n",
              "      <td>33</td>\n",
              "      <td>23</td>\n",
              "      <td>36</td>\n",
              "      <td>552</td>\n",
              "      <td>633</td>\n",
              "    </tr>\n",
              "    <tr>\n",
              "      <th>7</th>\n",
              "      <td>furits and nuts</td>\n",
              "      <td>478</td>\n",
              "      <td>462</td>\n",
              "      <td>354</td>\n",
              "      <td>49</td>\n",
              "      <td>89</td>\n",
              "      <td>0</td>\n",
              "      <td>1</td>\n",
              "      <td>0</td>\n",
              "      <td>1</td>\n",
              "      <td>8</td>\n",
              "      <td>335</td>\n",
              "      <td>214</td>\n",
              "    </tr>\n",
              "    <tr>\n",
              "      <th>8</th>\n",
              "      <td>dark chocolate</td>\n",
              "      <td>598</td>\n",
              "      <td>203</td>\n",
              "      <td>36</td>\n",
              "      <td>96</td>\n",
              "      <td>789</td>\n",
              "      <td>4</td>\n",
              "      <td>5</td>\n",
              "      <td>0</td>\n",
              "      <td>8</td>\n",
              "      <td>0</td>\n",
              "      <td>789</td>\n",
              "      <td>458</td>\n",
              "    </tr>\n",
              "    <tr>\n",
              "      <th>9</th>\n",
              "      <td>chocolate and orange</td>\n",
              "      <td>324</td>\n",
              "      <td>123</td>\n",
              "      <td>48</td>\n",
              "      <td>32</td>\n",
              "      <td>65</td>\n",
              "      <td>74</td>\n",
              "      <td>78</td>\n",
              "      <td>45</td>\n",
              "      <td>89</td>\n",
              "      <td>100</td>\n",
              "      <td>632</td>\n",
              "      <td>231</td>\n",
              "    </tr>\n",
              "    <tr>\n",
              "      <th>10</th>\n",
              "      <td>choco mint</td>\n",
              "      <td>458</td>\n",
              "      <td>412</td>\n",
              "      <td>78</td>\n",
              "      <td>78</td>\n",
              "      <td>78</td>\n",
              "      <td>7</td>\n",
              "      <td>3</td>\n",
              "      <td>8</td>\n",
              "      <td>2</td>\n",
              "      <td>1</td>\n",
              "      <td>323</td>\n",
              "      <td>564</td>\n",
              "    </tr>\n",
              "    <tr>\n",
              "      <th>11</th>\n",
              "      <td>choco butter naught</td>\n",
              "      <td>778</td>\n",
              "      <td>586</td>\n",
              "      <td>645</td>\n",
              "      <td>100</td>\n",
              "      <td>987</td>\n",
              "      <td>63</td>\n",
              "      <td>36</td>\n",
              "      <td>89</td>\n",
              "      <td>78</td>\n",
              "      <td>99</td>\n",
              "      <td>784</td>\n",
              "      <td>2310</td>\n",
              "    </tr>\n",
              "  </tbody>\n",
              "</table>\n",
              "</div>"
            ],
            "text/plain": [
              "                  flavor  january  february  ...  october  november  december\n",
              "0             red velvet      781       524  ...       78       231       899\n",
              "1                   oreo      210       324  ...        6       312       548\n",
              "2           sugar glazed      599       674  ...       98       781      1602\n",
              "3           almond honey      124       112  ...       36       300       566\n",
              "4                 matcha      645       498  ...       71       549       897\n",
              "5       strawberry cream      210       372  ...       41       207       456\n",
              "6       brown sugar boba      981       380  ...       36       552       633\n",
              "7        furits and nuts      478       462  ...        8       335       214\n",
              "8         dark chocolate      598       203  ...        0       789       458\n",
              "9   chocolate and orange      324       123  ...      100       632       231\n",
              "10            choco mint      458       412  ...        1       323       564\n",
              "11   choco butter naught      778       586  ...       99       784      2310\n",
              "\n",
              "[12 rows x 13 columns]"
            ]
          },
          "metadata": {
            "tags": []
          },
          "execution_count": 3
        }
      ]
    },
    {
      "cell_type": "markdown",
      "metadata": {
        "id": "5vNvFEM_v-bK"
      },
      "source": [
        "## Part 1: Monthly Sales"
      ]
    },
    {
      "cell_type": "code",
      "metadata": {
        "id": "e8y1-G_Pv-bL",
        "colab": {
          "base_uri": "https://localhost:8080/"
        },
        "outputId": "3998e0f1-b2b8-4144-ce95-4ef035b29f31"
      },
      "source": [
        "import numpy as np\n",
        "### Vectorizing the data\n",
        "sales_mat = np.array(df_sales.set_index('flavor'))\n",
        "prices_mat = np.array(df_prices)[0]## reshape this vector to the appropriate size\n",
        "\n",
        "#reshaping prices\n",
        "prices_mat = prices_mat.reshape((12,1))\n",
        "\n",
        "costs_mat = np.array(df_prices)[1] ## reshape this vector to the appropriate size\n",
        "\n",
        "#reshaping costs \n",
        "costs_mat = costs_mat.reshape((12,1))\n",
        "\n",
        "\n",
        "## Do not alter these lines\n",
        "print(sales_mat.shape)\n",
        "print(prices_mat.shape)\n",
        "print(costs_mat.shape)\n",
        "# Expected Output\n",
        "# (12, 12)\n",
        "# (12, 1)\n",
        "# (12, 1)"
      ],
      "execution_count": null,
      "outputs": [
        {
          "output_type": "stream",
          "text": [
            "(12, 12)\n",
            "(12, 1)\n",
            "(12, 1)\n"
          ],
          "name": "stdout"
        }
      ]
    },
    {
      "cell_type": "markdown",
      "metadata": {
        "id": "myBW8P1Ev-bQ"
      },
      "source": [
        "#### Formulas"
      ]
    },
    {
      "cell_type": "markdown",
      "metadata": {
        "id": "_P6Z78bLv-bR"
      },
      "source": [
        "Take note that the fomula for revenue is: <br>\n",
        "$revenue = sales * price $ <br>\n",
        "In this case, think that revenue, sales, and price are vectors instead of individual values <br>\n",
        "The formula of cost per item sold is: <br>\n",
        "$cost_{sold} = sales * cost$ <br>\n",
        "The formula for profit is: <br>\n",
        "$profit = revenue - cost_{sold}$ <br>\n",
        "Solving for the monthly profit will be the sum of all profits made on that month."
      ]
    },
    {
      "cell_type": "code",
      "metadata": {
        "id": "ga5B09Ytv-bS"
      },
      "source": [
        "#Create a function that *returns* and prints the monthly sales and profit for each month \n",
        "def monthly_sales(price, cost, sales):\n",
        "    monthly_revenue = np.multiply(sales,price) \n",
        "    monthly_costs = np.multiply(sales,cost) \n",
        "    monthly_profits = np.subtract(monthly_revenue ,monthly_costs)  \n",
        "    return monthly_revenue.flatten(), monthly_costs.flatten(), monthly_profits.flatten()"
      ],
      "execution_count": null,
      "outputs": []
    },
    {
      "cell_type": "code",
      "metadata": {
        "id": "WFfr_9rFv-bV",
        "colab": {
          "base_uri": "https://localhost:8080/"
        },
        "outputId": "c7a5338b-807e-48e0-b011-11ddb58e098b"
      },
      "source": [
        "### Do not alter this cell\n",
        "month_rev, month_cost, month_profit = monthly_sales(prices_mat, costs_mat, sales_mat)\n",
        "\n",
        "### print the values\n",
        "print(f'Monthly Revenue: \\n'\n",
        "     f'{month_rev}\\n'\n",
        "     f'Monthly Costs: \\n'\n",
        "     f'{month_cost}\\n'\n",
        "     f'Monthly Profit: \\n'\n",
        "     f'{month_profit}')"
      ],
      "execution_count": null,
      "outputs": [
        {
          "output_type": "stream",
          "text": [
            "Monthly Revenue: \n",
            "[ 27335  18340  12740   5495  31290   1960   3115   1435    805   2730\n",
            "   8085  31465   5250   8100   8600    800   3075     25     75      0\n",
            "     25    150   7800  13700  11980  13480  17080    280   9340   1560\n",
            "    720    960   1500   1960  15620  32040   4340   3920   3990    805\n",
            "   6930    420   1120   1435    805   1260  10500  19810  32250  24900\n",
            "  44250   4900   8850   4900   2150   4800   1300   3550  27450  44850\n",
            "   8400  14880  14760   3120   6520   1040   1800    880   2160   1640\n",
            "   8280  18240  39240  15200   6160    560   5880    600   3920   1320\n",
            "    920   1440  22080  25320  21510  20790  15930   2205   4005      0\n",
            "     45      0     45    360  15075   9630  17940   6090   1080   2880\n",
            "  23670    120    150      0    240      0  23670  13740  12960   4920\n",
            "   1920   1280   2600   2960   3120   1800   3560   4000  25280   9240\n",
            "  20610  18540   3510   3510   3510    315    135    360     90     45\n",
            "  14535  25380  35010  26370  29025   4500  44415   2835   1620   4005\n",
            "   3510   4455  35280 103950]\n",
            "Monthly Costs: \n",
            "[19525 13100  9100  3925 22350  1400  2225  1025   575  1950  5775 22475\n",
            "  3150  4860  5160   480  1845    15    45     0    15    90  4680  8220\n",
            "  5990  6740  8540   140  4670   780   360   480   750   980  7810 16020\n",
            "  2480  2240  2280   460  3960   240   640   820   460   720  6000 11320\n",
            " 22575 17430 30975  3430  6195  3430  1505  3360   910  2485 19215 31395\n",
            "  6510 11532 11439  2418  5053   806  1395   682  1674  1271  6417 14136\n",
            " 29430 11400  4620   420  4410   450  2940   990   690  1080 16560 18990\n",
            " 11950 11550  8850  1225  2225     0    25     0    25   200  8375  5350\n",
            "  8970  3045   540  1440 11835    60    75     0   120     0 11835  6870\n",
            "  8100  3075  1200   800  1625  1850  1950  1125  2225  2500 15800  5775\n",
            " 14656 13184  2496  2496  2496   224    96   256    64    32 10336 18048\n",
            " 24118 18166 19995  3100 30597  1953  1116  2759  2418  3069 24304 71610]\n",
            "Monthly Profit: \n",
            "[ 7810  5240  3640  1570  8940   560   890   410   230   780  2310  8990\n",
            "  2100  3240  3440   320  1230    10    30     0    10    60  3120  5480\n",
            "  5990  6740  8540   140  4670   780   360   480   750   980  7810 16020\n",
            "  1860  1680  1710   345  2970   180   480   615   345   540  4500  8490\n",
            "  9675  7470 13275  1470  2655  1470   645  1440   390  1065  8235 13455\n",
            "  1890  3348  3321   702  1467   234   405   198   486   369  1863  4104\n",
            "  9810  3800  1540   140  1470   150   980   330   230   360  5520  6330\n",
            "  9560  9240  7080   980  1780     0    20     0    20   160  6700  4280\n",
            "  8970  3045   540  1440 11835    60    75     0   120     0 11835  6870\n",
            "  4860  1845   720   480   975  1110  1170   675  1335  1500  9480  3465\n",
            "  5954  5356  1014  1014  1014    91    39   104    26    13  4199  7332\n",
            " 10892  8204  9030  1400 13818   882   504  1246  1092  1386 10976 32340]\n"
          ],
          "name": "stdout"
        }
      ]
    },
    {
      "cell_type": "code",
      "metadata": {
        "id": "SxtZIdD9v-bY"
      },
      "source": [
        "#Getting the total profit each month\n",
        "#Since it has a (144,) shape the indices start at 0, having an 144 elements.\n",
        "January = np.sum(month_profit[0:144:12])\n",
        "February = np.sum(month_profit[1:144:12])\n",
        "March = np.sum(month_profit[2:144:12])\n",
        "April = np.sum(month_profit[3:144:12])\n",
        "May = np.sum(month_profit[4:144:12])\n",
        "June = np.sum(month_profit[5:144:12])\n",
        "July = np.sum(month_profit[6:144:12])\n",
        "August = np.sum(month_profit[7:144:12])\n",
        "September = np.sum(month_profit[8:144:12])\n",
        "October = np.sum(month_profit[9:144:12])\n",
        "November = np.sum(month_profit[10:144:12])\n",
        "December = np.sum(month_profit[11:144:12])"
      ],
      "execution_count": null,
      "outputs": []
    },
    {
      "cell_type": "code",
      "metadata": {
        "id": "xwxe2z3Rv-bb",
        "colab": {
          "base_uri": "https://localhost:8080/"
        },
        "outputId": "189a7a17-eb2f-462a-d3e9-4b344a1bfea2"
      },
      "source": [
        "# Printing the results for total profit each month\n",
        "print(f'Total profit for the month of January = {January}\\n'\n",
        "      f'Total profit for the month of Feburary = {February}\\n'\n",
        "      f'Total profit for the month of March = {March}\\n'\n",
        "      f'Total profit for the month of April = {April}\\n'\n",
        "      f'Total profit for the month of May = {May}\\n'\n",
        "      f'Total profit for the month of June = {June}\\n'\n",
        "      f'Total profit for the month of July = {July}\\n'\n",
        "      f'Total profit for the month of August = {August}\\n'\n",
        "      f'Total profit for the month of September = {September}\\n'\n",
        "      f'Total profit for the month of October = {October}\\n'\n",
        "      f'Total profit for the month of November = {November}\\n'\n",
        "      f'Total profit for the month of December = {December}\\n')"
      ],
      "execution_count": null,
      "outputs": [
        {
          "output_type": "stream",
          "text": [
            "Total profit for the month of January = 79371\n",
            "Total profit for the month of Feburary = 59208\n",
            "Total profit for the month of March = 53850\n",
            "Total profit for the month of April = 10001\n",
            "Total profit for the month of May = 52824\n",
            "Total profit for the month of June = 5527\n",
            "Total profit for the month of July = 5598\n",
            "Total profit for the month of August = 5498\n",
            "Total profit for the month of September = 5034\n",
            "Total profit for the month of October = 7213\n",
            "Total profit for the month of November = 76548\n",
            "Total profit for the month of December = 117156\n",
            "\n"
          ],
          "name": "stdout"
        }
      ]
    },
    {
      "cell_type": "markdown",
      "metadata": {
        "id": "M6OCl3eGv-bd"
      },
      "source": [
        "## Part 2: Flavor Sales"
      ]
    },
    {
      "cell_type": "code",
      "metadata": {
        "id": "oRWifdqWv-bd"
      },
      "source": [
        "#Create a function that *returns* and prints the flavor profits for the whole year \n",
        "def flavor_sales(price, cost, sales):\n",
        "    flavor_revenue = np.multiply(sales,price)\n",
        "    flavor_costs = np.multiply(sales,cost)\n",
        "    flavor_profits = np.subtract(flavor_revenue, flavor_costs) \n",
        "    return flavor_profits.flatten()"
      ],
      "execution_count": null,
      "outputs": []
    },
    {
      "cell_type": "code",
      "metadata": {
        "id": "8K91Xrt8v-bg",
        "colab": {
          "base_uri": "https://localhost:8080/"
        },
        "outputId": "bbd7e8cb-ce35-403b-cb04-26450642ca39"
      },
      "source": [
        "### Do not alter this cell\n",
        "flavor_profit = flavor_sales(prices_mat, costs_mat, sales_mat)\n",
        "\n",
        "### print the values\n",
        "print('fThe following data are the Flavor profit:\\n'\n",
        "      f'{flavor_profit}')"
      ],
      "execution_count": null,
      "outputs": [
        {
          "output_type": "stream",
          "text": [
            "fThe following data are the Flavor profit:\n",
            "[ 7810  5240  3640  1570  8940   560   890   410   230   780  2310  8990\n",
            "  2100  3240  3440   320  1230    10    30     0    10    60  3120  5480\n",
            "  5990  6740  8540   140  4670   780   360   480   750   980  7810 16020\n",
            "  1860  1680  1710   345  2970   180   480   615   345   540  4500  8490\n",
            "  9675  7470 13275  1470  2655  1470   645  1440   390  1065  8235 13455\n",
            "  1890  3348  3321   702  1467   234   405   198   486   369  1863  4104\n",
            "  9810  3800  1540   140  1470   150   980   330   230   360  5520  6330\n",
            "  9560  9240  7080   980  1780     0    20     0    20   160  6700  4280\n",
            "  8970  3045   540  1440 11835    60    75     0   120     0 11835  6870\n",
            "  4860  1845   720   480   975  1110  1170   675  1335  1500  9480  3465\n",
            "  5954  5356  1014  1014  1014    91    39   104    26    13  4199  7332\n",
            " 10892  8204  9030  1400 13818   882   504  1246  1092  1386 10976 32340]\n"
          ],
          "name": "stdout"
        }
      ]
    },
    {
      "cell_type": "code",
      "metadata": {
        "id": "zEMYJqoQv-bh"
      },
      "source": [
        "# Getting the total profit per flavor\n",
        "# Calling its element starting from 0 up to 144, Skip counting by 12.\n",
        "red_vlvt = np.sum(flavor_profit[0:12])\n",
        "oreo = np.sum(flavor_profit[12:24])\n",
        "sugar_glzd = np.sum(flavor_profit[24:36])\n",
        "almnd_honey = np.sum(flavor_profit[36:48])\n",
        "matcha = np.sum(flavor_profit[48:60])\n",
        "sb_cream = np.sum(flavor_profit[60:72])\n",
        "brwnsugar_boba = np.sum(flavor_profit[72:84])\n",
        "fruits_n_nuts = np.sum(flavor_profit[84:96])\n",
        "dk_choco = np.sum(flavor_profit[96:108])\n",
        "ch_n_orange = np.sum(flavor_profit[108:120])\n",
        "ch_mint = np.sum(flavor_profit[120:132])\n",
        "chbutter_nght = np.sum(flavor_profit[132:144])"
      ],
      "execution_count": null,
      "outputs": []
    },
    {
      "cell_type": "code",
      "metadata": {
        "id": "62vfOSXKv-bj",
        "colab": {
          "base_uri": "https://localhost:8080/"
        },
        "outputId": "8b1847b5-597a-4a5d-e835-4686b8ea4e28"
      },
      "source": [
        "# Printing the total profit per flavor.\n",
        "print(f'Whole year profit of the flavor Red Velvet = {red_vlvt}\\n'\n",
        "      f'Whole year profit of the flavor Oreo = {oreo}\\n'\n",
        "      f'Whole year profit of the flavor Sugar Glazed = {sugar_glzd}\\n'\n",
        "      f'Whole year profit of the flavor Almond Honey = {almnd_honey}\\n'\n",
        "      f'Whole year profit of the flavor Matcha = {matcha}\\n'\n",
        "      f'Whole year profit of the flavor Strawberry Cream = {sb_cream}\\n'\n",
        "      f'Whole year profit of the flavor Brown Sugar Boba = {brwnsugar_boba}\\n'\n",
        "      f'Whole year profit of the flavor Fruits & Nuts = {fruits_n_nuts}\\n'\n",
        "      f'Whole year of the flavor Dark Chocolate = {dk_choco}\\n'\n",
        "      f'Whole year of the flavor Chocolate & Orange = {ch_n_orange}\\n'\n",
        "      f'Whole year of the flavor Choco Mint = {ch_mint}\\n'\n",
        "      f'Whole year of the flavor Choco Butter Naught = {chbutter_nght}\\n')"
      ],
      "execution_count": null,
      "outputs": [
        {
          "output_type": "stream",
          "text": [
            "Whole year profit of the flavor Red Velvet = 41370\n",
            "Whole year profit of the flavor Oreo = 19040\n",
            "Whole year profit of the flavor Sugar Glazed = 53260\n",
            "Whole year profit of the flavor Almond Honey = 23715\n",
            "Whole year profit of the flavor Matcha = 61245\n",
            "Whole year profit of the flavor Strawberry Cream = 18387\n",
            "Whole year profit of the flavor Brown Sugar Boba = 30660\n",
            "Whole year profit of the flavor Fruits & Nuts = 39820\n",
            "Whole year of the flavor Dark Chocolate = 44790\n",
            "Whole year of the flavor Chocolate & Orange = 27615\n",
            "Whole year of the flavor Choco Mint = 26156\n",
            "Whole year of the flavor Choco Butter Naught = 91770\n",
            "\n"
          ],
          "name": "stdout"
        }
      ]
    },
    {
      "cell_type": "code",
      "metadata": {
        "id": "SLUIYSBEv-bl"
      },
      "source": [
        "### identify the best-selling and least-selling flavors. You can use np.sort() or np.argmax() for this.\n",
        "\n",
        "# Best Sellers\n",
        "best_3_flavors = [(matcha),(sugar_glzd),(chbutter_nght)]\n",
        "best =np.sort(best_3_flavors)\n",
        "\n",
        "# Worst Flavors.\n",
        "worst_3_flavors = [(sb_cream),(oreo),(almnd_honey)]\n",
        "worst = np.sort(worst_3_flavors)"
      ],
      "execution_count": null,
      "outputs": []
    },
    {
      "cell_type": "code",
      "metadata": {
        "id": "uvC2SbPv_PLv",
        "colab": {
          "base_uri": "https://localhost:8080/"
        },
        "outputId": "38cd533b-977d-476a-9a93-33db854ade16"
      },
      "source": [
        "#Printing the result from the np.sort().\n",
        "# Best Sellers\n",
        "print(\"The best 3 flavors are the following:\")\n",
        "print(\"Matcha with its selling profitt: {0}\\nSugar Glazed with its selling profit: {1} \\nChoco Butter Naught with its selling profit: {2} \".format(chbutter_nght,matcha,sugar_glzd))\n",
        "\n",
        "#Printing the result from the np.sort().\n",
        "#Worst Flavors\n",
        "print(\"\\nThe worst 3 flavors are the following:\")\n",
        "print(\"Strawberry Cream with its selling profit: {0}\\nOreo with its selling profit: {1}\\nAlmond Honey with its selling profit: {2} \".format(sb_cream,oreo,almnd_honey))\n"
      ],
      "execution_count": null,
      "outputs": [
        {
          "output_type": "stream",
          "text": [
            "The best 3 flavors are the following:\n",
            "Matcha with its selling profitt: 91770\n",
            "Sugar Glazed with its selling profit: 61245 \n",
            "Choco Butter Naught with its selling profit: 53260 \n",
            "\n",
            "The worst 3 flavors are the following:\n",
            "Strawberry Cream with its selling profit: 18387\n",
            "Oreo with its selling profit: 19040\n",
            "Almond Honey with its selling profit: 23715 \n"
          ],
          "name": "stdout"
        }
      ]
    },
    {
      "cell_type": "markdown",
      "metadata": {
        "id": "jOe5ihQZv-bn"
      },
      "source": [
        "## Part 3: Visualizing the Data (Optional for +40%)\n",
        "You can try to visualize the data in the most comprehensible chart that you can use."
      ]
    },
    {
      "cell_type": "code",
      "metadata": {
        "id": "q9RkAD7Bv-bo"
      },
      "source": [
        "import matplotlib.pyplot as plt\n",
        "import matplotlib\n",
        "import seaborn as sns\n",
        "%matplotlib inline"
      ],
      "execution_count": null,
      "outputs": []
    },
    {
      "cell_type": "markdown",
      "metadata": {
        "id": "N1uGiNuSv-bq"
      },
      "source": [
        "#### Entire Dataset"
      ]
    },
    {
      "cell_type": "code",
      "metadata": {
        "id": "MuN4oO9_a7xL",
        "colab": {
          "base_uri": "https://localhost:8080/",
          "height": 243
        },
        "outputId": "47b17619-6b5a-4cea-855f-cb0149ed41b7"
      },
      "source": [
        "#data from df_sales\n",
        "sns.catplot(x='flavor',y =\"january\",\n",
        "                data = df_sales, palette = 'Set2', kind =\"bar\",\n",
        "                height = 4, aspect = 5);"
      ],
      "execution_count": null,
      "outputs": [
        {
          "output_type": "display_data",
          "data": {
            "image/png": "[encoded data removed]",
            "text/plain": [
              "<Figure size 1440x288 with 1 Axes>"
            ]
          },
          "metadata": {
            "tags": [],
            "needs_background": "light"
          }
        }
      ]
    },
    {
      "cell_type": "code",
      "metadata": {
        "id": "baeedHVLcjt1",
        "colab": {
          "base_uri": "https://localhost:8080/",
          "height": 243
        },
        "outputId": "a440706c-4938-4caf-d632-6b7468171a5b"
      },
      "source": [
        "sns.catplot(x='flavor',y =\"february\",\n",
        "                data = df_sales, palette = 'Set2', kind =\"bar\",\n",
        "                height = 4, aspect = 5);"
      ],
      "execution_count": null,
      "outputs": [
        {
          "output_type": "display_data",
          "data": {
            "image/png": "[encoded data removed]",
            "text/plain": [
              "<Figure size 1440x288 with 1 Axes>"
            ]
          },
          "metadata": {
            "tags": [],
            "needs_background": "light"
          }
        }
      ]
    },
    {
      "cell_type": "code",
      "metadata": {
        "id": "MQ7qgGmmbCWC",
        "colab": {
          "base_uri": "https://localhost:8080/",
          "height": 243
        },
        "outputId": "0fc8a259-aaaa-4b55-eaa1-ea08e557fd33"
      },
      "source": [
        "sns.catplot(x='flavor',y =\"march\",\n",
        "                data = df_sales, palette = 'Set2', kind =\"bar\",\n",
        "                height = 4, aspect = 5);"
      ],
      "execution_count": null,
      "outputs": [
        {
          "output_type": "display_data",
          "data": {
            "image/png": "[encoded data removed]",
            "text/plain": [
              "<Figure size 1440x288 with 1 Axes>"
            ]
          },
          "metadata": {
            "tags": [],
            "needs_background": "light"
          }
        }
      ]
    },
    {
      "cell_type": "code",
      "metadata": {
        "id": "qoj959xObKa7",
        "colab": {
          "base_uri": "https://localhost:8080/",
          "height": 243
        },
        "outputId": "84eba0e2-f64d-46e9-e7cf-fdc1b68f8f72"
      },
      "source": [
        "sns.catplot(x='flavor',y =\"april\",\n",
        "                data = df_sales, palette = 'Set2', kind =\"bar\",\n",
        "                height = 4, aspect = 5);"
      ],
      "execution_count": null,
      "outputs": [
        {
          "output_type": "display_data",
          "data": {
            "image/png": "[encoded data removed]",
            "text/plain": [
              "<Figure size 1440x288 with 1 Axes>"
            ]
          },
          "metadata": {
            "tags": [],
            "needs_background": "light"
          }
        }
      ]
    },
    {
      "cell_type": "code",
      "metadata": {
        "id": "KUAcPYSDbFgZ",
        "colab": {
          "base_uri": "https://localhost:8080/",
          "height": 243
        },
        "outputId": "e55ffa88-1da1-4cd8-83b4-1b36d3926be4"
      },
      "source": [
        "sns.catplot(x='flavor',y =\"may\",\n",
        "                data = df_sales, palette = 'Set2', kind =\"bar\",\n",
        "                height = 4, aspect = 5);"
      ],
      "execution_count": null,
      "outputs": [
        {
          "output_type": "display_data",
          "data": {
            "image/png": "[encoded data removed]",
            "text/plain": [
              "<Figure size 1440x288 with 1 Axes>"
            ]
          },
          "metadata": {
            "tags": [],
            "needs_background": "light"
          }
        }
      ]
    },
    {
      "cell_type": "code",
      "metadata": {
        "id": "ELUA3kMAcSmE",
        "colab": {
          "base_uri": "https://localhost:8080/",
          "height": 243
        },
        "outputId": "1f211ed0-6642-4079-b1df-ecec3bee33c3"
      },
      "source": [
        "sns.catplot(x='flavor',y =\"june\",\n",
        "                data = df_sales, palette = 'Set2', kind =\"bar\",\n",
        "                height = 4, aspect = 5);"
      ],
      "execution_count": null,
      "outputs": [
        {
          "output_type": "display_data",
          "data": {
            "image/png": "[encoded data removed]",
            "text/plain": [
              "<Figure size 1440x288 with 1 Axes>"
            ]
          },
          "metadata": {
            "tags": [],
            "needs_background": "light"
          }
        }
      ]
    },
    {
      "cell_type": "code",
      "metadata": {
        "id": "bKuzoa3pbaaa",
        "colab": {
          "base_uri": "https://localhost:8080/",
          "height": 243
        },
        "outputId": "0e5c2e4c-a630-4cb6-c685-564dfb31e146"
      },
      "source": [
        "sns.catplot(x='flavor',y =\"july\",\n",
        "                data = df_sales, palette = 'Set2', kind =\"bar\",\n",
        "                height = 4, aspect = 5);"
      ],
      "execution_count": null,
      "outputs": [
        {
          "output_type": "display_data",
          "data": {
            "image/png": "[encoded data removed]",
            "text/plain": [
              "<Figure size 1440x288 with 1 Axes>"
            ]
          },
          "metadata": {
            "tags": [],
            "needs_background": "light"
          }
        }
      ]
    },
    {
      "cell_type": "code",
      "metadata": {
        "id": "AGMOFhhWbc-h",
        "colab": {
          "base_uri": "https://localhost:8080/",
          "height": 243
        },
        "outputId": "6b6ce53b-cbc9-419b-ee16-50e886e8eef5"
      },
      "source": [
        "sns.catplot(x='flavor',y ='august',\n",
        "                data = df_sales, palette = 'Set2', kind =\"bar\",\n",
        "                height = 4, aspect = 5);"
      ],
      "execution_count": null,
      "outputs": [
        {
          "output_type": "display_data",
          "data": {
            "image/png": "[encoded data removed]",
            "text/plain": [
              "<Figure size 1440x288 with 1 Axes>"
            ]
          },
          "metadata": {
            "tags": [],
            "needs_background": "light"
          }
        }
      ]
    },
    {
      "cell_type": "code",
      "metadata": {
        "id": "OeyxeZ44cpOj",
        "colab": {
          "base_uri": "https://localhost:8080/",
          "height": 243
        },
        "outputId": "3ea1e618-49b6-4655-8136-aab9a88fa763"
      },
      "source": [
        "sns.catplot(x='flavor',y =\"september\",\n",
        "                data = df_sales, palette = 'Set2', kind =\"bar\",\n",
        "                height = 4, aspect = 5);"
      ],
      "execution_count": null,
      "outputs": [
        {
          "output_type": "display_data",
          "data": {
            "image/png": "[encoded data removed]",
            "text/plain": [
              "<Figure size 1440x288 with 1 Axes>"
            ]
          },
          "metadata": {
            "tags": [],
            "needs_background": "light"
          }
        }
      ]
    },
    {
      "cell_type": "code",
      "metadata": {
        "id": "3z11BSiRcrPg",
        "colab": {
          "base_uri": "https://localhost:8080/",
          "height": 243
        },
        "outputId": "f1edf93b-6ebc-41c8-b0f8-cd32f144d4b8"
      },
      "source": [
        "sns.catplot(x='flavor',y =\"october\",\n",
        "                data = df_sales, palette = 'Set2', kind =\"bar\",\n",
        "                height = 4, aspect = 5);"
      ],
      "execution_count": null,
      "outputs": [
        {
          "output_type": "display_data",
          "data": {
            "image/png": "[encoded data removed]",
            "text/plain": [
              "<Figure size 1440x288 with 1 Axes>"
            ]
          },
          "metadata": {
            "tags": [],
            "needs_background": "light"
          }
        }
      ]
    },
    {
      "cell_type": "code",
      "metadata": {
        "id": "bZ_COa-Zctk0",
        "colab": {
          "base_uri": "https://localhost:8080/",
          "height": 243
        },
        "outputId": "a5c32494-74c1-4193-aadb-202bfb914e6f"
      },
      "source": [
        "sns.catplot(x='flavor',y =\"november\",\n",
        "                data = df_sales, palette = 'Set2', kind =\"bar\",\n",
        "                height = 4, aspect = 5);"
      ],
      "execution_count": null,
      "outputs": [
        {
          "output_type": "display_data",
          "data": {
            "image/png": "[encoded data removed]",
            "text/plain": [
              "<Figure size 1440x288 with 1 Axes>"
            ]
          },
          "metadata": {
            "tags": [],
            "needs_background": "light"
          }
        }
      ]
    },
    {
      "cell_type": "code",
      "metadata": {
        "id": "i4CZqyvhcvWU",
        "colab": {
          "base_uri": "https://localhost:8080/",
          "height": 243
        },
        "outputId": "73e66065-7395-429b-ffe0-5020cecf05ff"
      },
      "source": [
        "sns.catplot(x='flavor',y =\"december\",\n",
        "                data = df_sales, palette = 'Set2', kind =\"bar\",\n",
        "                height = 4, aspect = 5);"
      ],
      "execution_count": null,
      "outputs": [
        {
          "output_type": "display_data",
          "data": {
            "image/png": "[encoded data removed]",
            "text/plain": [
              "<Figure size 1440x288 with 1 Axes>"
            ]
          },
          "metadata": {
            "tags": [],
            "needs_background": "light"
          }
        }
      ]
    },
    {
      "cell_type": "markdown",
      "metadata": {
        "id": "pfsvV07nv-b-"
      },
      "source": [
        "#### Monthly Sales"
      ]
    },
    {
      "cell_type": "code",
      "metadata": {
        "id": "n7TyZW6Av-b_"
      },
      "source": [
        "# Creating another CSV file for the monthly sales.\n",
        "bebang_profit_sales = ('/content/bebang_total_monthly_sales.csv')\n",
        "df_profit_sales_per_month = pd.read_csv(bebang_profit_sales)"
      ],
      "execution_count": null,
      "outputs": []
    },
    {
      "cell_type": "code",
      "metadata": {
        "id": "oWTBa9Pb-2Q_",
        "colab": {
          "base_uri": "https://localhost:8080/",
          "height": 300
        },
        "outputId": "7528570e-f3ad-4f21-ceaf-1eb6c8a26517"
      },
      "source": [
        "sns.catplot(x = 'Total Sales Per Month', y = 'Total Profit Per Month',\n",
        "                data = df_profit_sales_per_month, palette = 'Set2', kind =\"bar\",\n",
        "                height = 4, aspect = 4);"
      ],
      "execution_count": null,
      "outputs": [
        {
          "output_type": "display_data",
          "data": {
            "image/png": "[encoded data removed]",
            "text/plain": [
              "<Figure size 1152x288 with 1 Axes>"
            ]
          },
          "metadata": {
            "tags": [],
            "needs_background": "light"
          }
        }
      ]
    },
    {
      "cell_type": "markdown",
      "metadata": {
        "id": "De0iP39Cv-cE"
      },
      "source": [
        "#### Flavor Sales"
      ]
    },
    {
      "cell_type": "code",
      "metadata": {
        "id": "sd8L2bmLv-cE"
      },
      "source": [
        "# Creating another CSV file for the flavor sales.\n",
        "bebang_flavors_sales = ('/content/bebang_flavors_profit.csv')\n",
        "df_profit_per_flavor = pd.read_csv(bebang_flavors_sales)"
      ],
      "execution_count": null,
      "outputs": []
    },
    {
      "cell_type": "code",
      "metadata": {
        "id": "1mj9xvnK_kCZ",
        "colab": {
          "base_uri": "https://localhost:8080/",
          "height": 243
        },
        "outputId": "976f7aa9-3c60-4975-f7bc-72c2c2960dce"
      },
      "source": [
        "sns.catplot(x = 'Flavors', y = 'Total Profit Per Flavor',\n",
        "                data = df_profit_per_flavor, palette = 'Set2', kind =\"bar\",\n",
        "                height = 4, aspect=5);"
      ],
      "execution_count": null,
      "outputs": [
        {
          "output_type": "display_data",
          "data": {
            "image/png": "[encoded data removed]",
            "text/plain": [
              "<Figure size 1440x288 with 1 Axes>"
            ]
          },
          "metadata": {
            "tags": [],
            "needs_background": "light"
          }
        }
      ]
    },
    {
      "cell_type": "markdown",
      "metadata": {
        "id": "AK00UhXev-cH"
      },
      "source": [
        "## Part 4: Business Recommendation and Conclusion\n",
        "Present the findings of your data analysis and provide recommendations"
      ]
    },
    {
      "cell_type": "markdown",
      "metadata": {
        "id": "USoDcDKwv-cH"
      },
      "source": [
        "A bar graph based on the results of the data collected or the analysis of the data presented in the plot. From November to March you will notice the months and flavors that are most profitably sold. It is highly recommended to increase flavor production during these months for greater profit. But for business, there are months when customers rarely buy donuts. From April, June to October we recommend setting the standard production of donuts or removing old, unsold flavors and replacing them with new flavors that customers rarely hear about. As recommended by Aichlika, try adding beverages such as coffee and iced tea. As for the strategy of selling donuts, advertise every three months or sell donuts as the expiration date approaches to avoid a loss of profit.\n"
      ]
    },
    {
      "cell_type": "code",
      "metadata": {
        "id": "6M8vPOuPtbXY"
      },
      "source": [
        ""
      ],
      "execution_count": null,
      "outputs": []
    }
  ]
}